{
  "nbformat": 4,
  "nbformat_minor": 0,
  "metadata": {
    "colab": {
      "provenance": [],
      "authorship_tag": "ABX9TyMX9tjS8lK2hCMKWN40mQpu",
      "include_colab_link": true
    },
    "kernelspec": {
      "name": "python3",
      "display_name": "Python 3"
    },
    "language_info": {
      "name": "python"
    }
  },
  "cells": [
    {
      "cell_type": "markdown",
      "metadata": {
        "id": "view-in-github",
        "colab_type": "text"
      },
      "source": [
        "<a href=\"https://colab.research.google.com/github/nicolerene91/Python_Notebook_Sewell/blob/main/12_10_Discussion.ipynb\" target=\"_parent\"><img src=\"https://colab.research.google.com/assets/colab-badge.svg\" alt=\"Open In Colab\"/></a>"
      ]
    },
    {
      "cell_type": "code",
      "execution_count": 18,
      "metadata": {
        "colab": {
          "base_uri": "https://localhost:8080/"
        },
        "id": "b0RENArraAnN",
        "outputId": "86c37af8-1569-4e58-f9cf-a5cd091e36b8"
      },
      "outputs": [
        {
          "output_type": "stream",
          "name": "stdout",
          "text": [
            "Similarity: 0.9423806892338971\n"
          ]
        },
        {
          "output_type": "stream",
          "name": "stderr",
          "text": [
            "<ipython-input-18-5b7217802a3c>:22: UserWarning: [W007] The model you're using has no word vectors loaded, so the result of the Doc.similarity method will be based on the tagger, parser and NER, which may not give useful similarity judgements. This may happen if you're using one of the small models, e.g. `en_core_web_sm`, which don't ship with word vectors and only use context-sensitive tensors. You can always add your own word vectors, or use one of the larger models instead if available.\n",
            "  print(f\"Similarity: {document1.similarity(document2)}\")\n"
          ]
        }
      ],
      "source": [
        "import spacy\n",
        "import requests\n",
        "\n",
        "# Load spaCy English model\n",
        "nlp = spacy.load('en_core_web_sm')\n",
        "\n",
        "# Define the URLs of the remote text files\n",
        "url1 = 'https://raw.githubusercontent.com/nicolerene91/Python_Notebook_Sewell/main/RomeoAndJuliet.txt'\n",
        "url2 = 'https://raw.githubusercontent.com/nicolerene91/Python_Notebook_Sewell/main/MuchAdoAboutNothing.txt'\n",
        "\n",
        "# Download the remote text files\n",
        "response1 = requests.get(url1)\n",
        "text1 = response1.text\n",
        "response2 = requests.get(url2)\n",
        "text2 = response2.text\n",
        "\n",
        "# Create spaCy documents from the text\n",
        "document1 = nlp(text1)\n",
        "document2 = nlp(text2)\n",
        "\n",
        "# Calculate and print the similarity of docs\n",
        "print(f\"Similarity: {document1.similarity(document2)}\")"
      ]
    }
  ]
}
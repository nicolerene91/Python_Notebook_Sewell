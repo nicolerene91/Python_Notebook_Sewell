{
  "nbformat": 4,
  "nbformat_minor": 0,
  "metadata": {
    "colab": {
      "provenance": [],
      "authorship_tag": "ABX9TyNvhODapxZFmEtHzhkCOAl5",
      "include_colab_link": true
    },
    "kernelspec": {
      "name": "python3",
      "display_name": "Python 3"
    },
    "language_info": {
      "name": "python"
    }
  },
  "cells": [
    {
      "cell_type": "markdown",
      "metadata": {
        "id": "view-in-github",
        "colab_type": "text"
      },
      "source": [
        "<a href=\"https://colab.research.google.com/github/nicolerene91/Python_Notebook_Sewell/blob/main/k_in_k_Means_Clustering.ipynb\" target=\"_parent\"><img src=\"https://colab.research.google.com/assets/colab-badge.svg\" alt=\"Open In Colab\"/></a>"
      ]
    },
    {
      "cell_type": "code",
      "execution_count": 5,
      "metadata": {
        "colab": {
          "base_uri": "https://localhost:8080/",
          "height": 809
        },
        "id": "mEDQ4GGWVOMZ",
        "outputId": "24db6ca7-eb4b-46ca-ec9f-ab075424c4c9"
      },
      "outputs": [
        {
          "output_type": "stream",
          "name": "stderr",
          "text": [
            "/usr/local/lib/python3.10/dist-packages/sklearn/linear_model/_logistic.py:458: ConvergenceWarning: lbfgs failed to converge (status=1):\n",
            "STOP: TOTAL NO. of ITERATIONS REACHED LIMIT.\n",
            "\n",
            "Increase the number of iterations (max_iter) or scale the data as shown in:\n",
            "    https://scikit-learn.org/stable/modules/preprocessing.html\n",
            "Please also refer to the documentation for alternative solver options:\n",
            "    https://scikit-learn.org/stable/modules/linear_model.html#logistic-regression\n",
            "  n_iter_i = _check_optimize_result(\n",
            "/usr/local/lib/python3.10/dist-packages/sklearn/linear_model/_logistic.py:458: ConvergenceWarning: lbfgs failed to converge (status=1):\n",
            "STOP: TOTAL NO. of ITERATIONS REACHED LIMIT.\n",
            "\n",
            "Increase the number of iterations (max_iter) or scale the data as shown in:\n",
            "    https://scikit-learn.org/stable/modules/preprocessing.html\n",
            "Please also refer to the documentation for alternative solver options:\n",
            "    https://scikit-learn.org/stable/modules/linear_model.html#logistic-regression\n",
            "  n_iter_i = _check_optimize_result(\n"
          ]
        },
        {
          "output_type": "stream",
          "name": "stdout",
          "text": [
            "Logistic Regression without PCA (MNIST):\n",
            "Accuracy: 0.9211\n",
            "Training Time: 41.60 seconds\n",
            "\n",
            "Logistic Regression with PCA (MNIST):\n",
            "Accuracy (with PCA): 0.9048\n",
            "Training Time (with PCA): 5.06 seconds\n"
          ]
        },
        {
          "output_type": "display_data",
          "data": {
            "text/plain": [
              "<Figure size 1200x400 with 1 Axes>"
            ],
            "image/png": "[encoded data removed]"
          },
          "metadata": {}
        }
      ],
      "source": [
        "import time\n",
        "import numpy as np\n",
        "import matplotlib.pyplot as plt\n",
        "from sklearn.datasets import fetch_openml, load_iris\n",
        "from sklearn.model_selection import train_test_split\n",
        "#from sklearn.preprocessing import StandardScaler\n",
        "from sklearn.decomposition import PCA\n",
        "from sklearn.cluster import KMeans\n",
        "from sklearn.linear_model import LogisticRegression\n",
        "from sklearn.metrics import accuracy_score\n",
        "\n",
        "# Load the MNIST dataset\n",
        "mnist = fetch_openml('mnist_784', version=1, return_X_y=True, parser='auto')\n",
        "\n",
        "# Split the MNIST dataset into features (X) and labels (y)\n",
        "X_mnist, y_mnist = mnist\n",
        "X_mnist = X_mnist / 255.0\n",
        "\n",
        "# Split the MNIST dataset into training and testing sets\n",
        "X_train_mnist, X_test_mnist, y_train_mnist, y_test_mnist = train_test_split(X_mnist, y_mnist, test_size=0.2, random_state=11)\n",
        "\n",
        "# Train logistic regression without PCA on MNIST\n",
        "start_time = time.time()\n",
        "lr_mnist = LogisticRegression(max_iter=100)\n",
        "lr_mnist.fit(X_train_mnist, y_train_mnist)\n",
        "end_time = time.time()\n",
        "elapsed_time_no_pca = end_time - start_time\n",
        "\n",
        "# Make predictions and calculate accuracy without PCA on MNIST\n",
        "y_pred_no_pca_mnist = lr_mnist.predict(X_test_mnist)\n",
        "accuracy_no_pca_mnist = accuracy_score(y_test_mnist, y_pred_no_pca_mnist)\n",
        "\n",
        "# Apply PCA dimensional reduction to MNIST\n",
        "n_components_mnist = 50\n",
        "pca_mnist = PCA(n_components=n_components_mnist)\n",
        "X_train_pca_mnist = pca_mnist.fit_transform(X_train_mnist)\n",
        "X_test_pca_mnist = pca_mnist.transform(X_test_mnist)\n",
        "\n",
        "# Train logistic regression with PCA on MNIST\n",
        "start_time = time.time()\n",
        "lr_pca_mnist = LogisticRegression(max_iter=100)\n",
        "lr_pca_mnist.fit(X_train_pca_mnist, y_train_mnist)\n",
        "end_time = time.time()\n",
        "elapsed_time_with_pca = end_time - start_time\n",
        "\n",
        "# Make predictions and calculate accuracy with PCA on MNIST\n",
        "X_test_pca_mnist = pca_mnist.transform(X_test_mnist)\n",
        "y_pred_pca_mnist = lr_pca_mnist.predict(X_test_pca_mnist)\n",
        "accuracy_with_pca_mnist = accuracy_score(y_test_mnist, y_pred_pca_mnist)\n",
        "\n",
        "# Compare results for MNIST\n",
        "print(\"Logistic Regression without PCA (MNIST):\")\n",
        "print(f\"Accuracy: {accuracy_no_pca_mnist:.4f}\")\n",
        "print(f\"Training Time: {elapsed_time_no_pca:.2f} seconds\")\n",
        "\n",
        "print(\"\\nLogistic Regression with PCA (MNIST):\")\n",
        "print(f\"Accuracy (with PCA): {accuracy_with_pca_mnist:.4f}\")\n",
        "print(f\"Training Time (with PCA): {elapsed_time_with_pca:.2f} seconds\")\n",
        "\n",
        "# Load the Iris dataset\n",
        "iris = load_iris()\n",
        "X_iris = iris.data\n",
        "\n",
        "# Initialize an empty list to store WCSS values for different k\n",
        "wcss = []\n",
        "\n",
        "# Try a range of k values (from 1 to 10, for example)\n",
        "k_values = range(1, 11)\n",
        "\n",
        "# Calculate WCSS for each k for Iris dataset\n",
        "for k in k_values:\n",
        "    kmeans = KMeans(n_clusters=k, n_init=10, random_state=11)\n",
        "    kmeans.fit(X_iris)\n",
        "    wcss.append(kmeans.inertia_)\n",
        "\n",
        "# Plot the WCSS values to find the elbow point for Iris dataset\n",
        "plt.figure(figsize=(12, 4))\n",
        "\n",
        "plt.subplot(1, 2, 1)\n",
        "plt.plot(k_values, wcss, linestyle='-', color='b')\n",
        "plt.title('The Elbow Method')\n",
        "plt.xlabel('Number of Clusters')\n",
        "plt.ylabel('WCSS')\n",
        "plt.grid()"
      ]
    }
  ]
}